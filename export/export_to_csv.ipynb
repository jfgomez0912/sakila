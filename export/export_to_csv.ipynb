{
 "cells": [
  {
   "cell_type": "code",
   "execution_count": 1,
   "id": "d9de3a4f",
   "metadata": {},
   "outputs": [],
   "source": [
    "# Imports\n",
    "\n",
    "import csv\n",
    "from pathlib import Path\n",
    "\n",
    "from sqlalchemy import create_engine, text"
   ]
  },
  {
   "cell_type": "code",
   "execution_count": null,
   "id": "509d36f0",
   "metadata": {},
   "outputs": [],
   "source": [
    "## Database\n",
    "\n",
    "user = \"root\"\n",
    "password = \"your_password\"\n",
    "host = \"127.0.0.1\"\n",
    "port = 3306\n",
    "database = \"sakila\"\n",
    "\n",
    "conn_str = f\"mysql+mysqlconnector://{user}:{password}@{host}:{port}/{database}\"\n",
    "engine = create_engine(conn_str)"
   ]
  },
  {
   "cell_type": "code",
   "execution_count": 3,
   "id": "9d90d32f",
   "metadata": {},
   "outputs": [],
   "source": [
    "TABLES = [\n",
    "    \"actor\",\n",
    "    \"address\",\n",
    "    \"category\",\n",
    "    \"city\",\n",
    "    \"country\",\n",
    "    \"customer\",\n",
    "    \"film\",\n",
    "    \"film_actor\",\n",
    "    \"film_category\",\n",
    "    \"film_text\",\n",
    "    \"inventory\",\n",
    "    \"language\",\n",
    "    \"payment\",\n",
    "    \"rental\",\n",
    "    \"staff\",\n",
    "    \"store\",\n",
    "]"
   ]
  },
  {
   "cell_type": "code",
   "execution_count": 4,
   "id": "864802ea",
   "metadata": {},
   "outputs": [],
   "source": [
    "output_folder = Path(\"output\")\n",
    "output_folder.mkdir(exist_ok=True)"
   ]
  },
  {
   "cell_type": "code",
   "execution_count": null,
   "id": "827dd331",
   "metadata": {},
   "outputs": [],
   "source": [
    "for table in TABLES:\n",
    "    if Path(f\"queries/{table}.sql\").is_file():\n",
    "        sql = Path(f\"queries/{table}.sql\").read_text()\n",
    "    else:\n",
    "        sql = f\"SELECT * FROM {table}\"\n",
    "\n",
    "    with engine.connect() as connection:\n",
    "        result = connection.execute(text(sql))\n",
    "\n",
    "    records = result.fetchall()\n",
    "    column_names = list(result.keys())\n",
    "\n",
    "    with (output_folder / Path(f\"{table}.csv\")).open(\"w\", newline=\"\") as f:\n",
    "        csv_file = csv.writer(\n",
    "            f, delimiter=\";\", quotechar='\"', quoting=csv.QUOTE_MINIMAL\n",
    "        )\n",
    "        csv_file.writerow(column_names)\n",
    "        try:\n",
    "            csv_file.writerows(records)\n",
    "        except Exception as e:\n",
    "            print(f\"Error writing to {table}.csv:\")\n",
    "            print(e)\n",
    "            print(records)\n"
   ]
  }
 ],
 "metadata": {
  "kernelspec": {
   "display_name": ".venv",
   "language": "python",
   "name": "python3"
  },
  "language_info": {
   "codemirror_mode": {
    "name": "ipython",
    "version": 3
   },
   "file_extension": ".py",
   "mimetype": "text/x-python",
   "name": "python",
   "nbconvert_exporter": "python",
   "pygments_lexer": "ipython3",
   "version": "3.13.3"
  }
 },
 "nbformat": 4,
 "nbformat_minor": 5
}
